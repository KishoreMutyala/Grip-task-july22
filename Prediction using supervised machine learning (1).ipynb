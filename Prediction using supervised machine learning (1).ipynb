{
 "cells": [
  {
   "cell_type": "markdown",
   "id": "220f0a07-1d3a-44f2-97cd-284ab48273bf",
   "metadata": {},
   "source": [
    "#### Name : `Sai Harshath Kishore Mutyala`\n",
    "\n",
    "#### Batch : `July 2022`"
   ]
  },
  {
   "cell_type": "markdown",
   "id": "ae342bd9-0c61-43b0-bc3b-917604bed66d",
   "metadata": {},
   "source": [
    "# THE SPARK FOUNDATION"
   ]
  },
  {
   "cell_type": "markdown",
   "id": "90d4f98a-a05e-45c5-9d7b-f4fa190ee9e4",
   "metadata": {},
   "source": [
    "## GripJuly22"
   ]
  },
  {
   "cell_type": "markdown",
   "id": "e7eb12ef-ee9c-4155-8af6-e0a4c6c2a32b",
   "metadata": {},
   "source": [
    "## DATA SCIENCE AND BUSINESS ANALYTICS INTERN"
   ]
  },
  {
   "cell_type": "markdown",
   "id": "72e58936-2675-4c95-a74a-11f8128d4c35",
   "metadata": {},
   "source": [
    "##  TASK 1 : `PREDICTION USING SUPERVISED MACHINE LEARNING`"
   ]
  },
  {
   "cell_type": "markdown",
   "id": "077068cd-112d-44f1-a28a-1f03119721e2",
   "metadata": {},
   "source": [
    "#### _Predict the precentage of an student based on no. of study hours_\n",
    "\n",
    "Dataset : <a>http://bit.ly/w-data</a>"
   ]
  },
  {
   "cell_type": "markdown",
   "id": "69788284-1e90-4175-af38-dde467bfe994",
   "metadata": {},
   "source": [
    "# Linear Regression from Scratch"
   ]
  },
  {
   "cell_type": "markdown",
   "id": "869db083-36d6-4530-9af6-2570bacc54a6",
   "metadata": {},
   "source": [
    "#### _Method Used : Gradient Descent_"
   ]
  },
  {
   "cell_type": "markdown",
   "id": "d1c57826-ffa7-4b36-9ea0-61e133a4d766",
   "metadata": {},
   "source": [
    "### Importing Packages \n",
    "\n",
    "**Packages Used :**\n",
    "- Pandas \n",
    "- Numpy\n",
    "- Matplotlib\n",
    "- Sklearn"
   ]
  },
  {
   "cell_type": "code",
   "execution_count": 3,
   "id": "0fc080c7-d7aa-4d25-bca2-d9197dcf6616",
   "metadata": {},
   "outputs": [],
   "source": [
    "import pandas as pd\n",
    "import numpy as np\n",
    "import matplotlib.pyplot  as plt\n",
    "from sklearn.preprocessing import StandardScaler\n",
    "from sklearn.model_selection import  train_test_split"
   ]
  },
  {
   "cell_type": "markdown",
   "id": "ef7ac113-cbd1-4fea-8265-ed96b8afc776",
   "metadata": {},
   "source": [
    "### Importing the Data "
   ]
  },
  {
   "cell_type": "code",
   "execution_count": 4,
   "id": "1e39a270-f207-45a2-8084-2d5e066297e0",
   "metadata": {},
   "outputs": [],
   "source": [
    "data = pd.read_csv(\"student_scores.csv\")"
   ]
  },
  {
   "cell_type": "code",
   "execution_count": 5,
   "id": "99c38a38-e5fb-4671-bded-c22e1a826bae",
   "metadata": {},
   "outputs": [
    {
     "data": {
      "text/html": [
       "<div>\n",
       "<style scoped>\n",
       "    .dataframe tbody tr th:only-of-type {\n",
       "        vertical-align: middle;\n",
       "    }\n",
       "\n",
       "    .dataframe tbody tr th {\n",
       "        vertical-align: top;\n",
       "    }\n",
       "\n",
       "    .dataframe thead th {\n",
       "        text-align: right;\n",
       "    }\n",
       "</style>\n",
       "<table border=\"1\" class=\"dataframe\">\n",
       "  <thead>\n",
       "    <tr style=\"text-align: right;\">\n",
       "      <th></th>\n",
       "      <th>Hours</th>\n",
       "      <th>Scores</th>\n",
       "    </tr>\n",
       "  </thead>\n",
       "  <tbody>\n",
       "    <tr>\n",
       "      <th>0</th>\n",
       "      <td>2.5</td>\n",
       "      <td>21</td>\n",
       "    </tr>\n",
       "    <tr>\n",
       "      <th>1</th>\n",
       "      <td>5.1</td>\n",
       "      <td>47</td>\n",
       "    </tr>\n",
       "    <tr>\n",
       "      <th>2</th>\n",
       "      <td>3.2</td>\n",
       "      <td>27</td>\n",
       "    </tr>\n",
       "    <tr>\n",
       "      <th>3</th>\n",
       "      <td>8.5</td>\n",
       "      <td>75</td>\n",
       "    </tr>\n",
       "    <tr>\n",
       "      <th>4</th>\n",
       "      <td>3.5</td>\n",
       "      <td>30</td>\n",
       "    </tr>\n",
       "  </tbody>\n",
       "</table>\n",
       "</div>"
      ],
      "text/plain": [
       "   Hours  Scores\n",
       "0    2.5      21\n",
       "1    5.1      47\n",
       "2    3.2      27\n",
       "3    8.5      75\n",
       "4    3.5      30"
      ]
     },
     "execution_count": 5,
     "metadata": {},
     "output_type": "execute_result"
    }
   ],
   "source": [
    "data.head()"
   ]
  },
  {
   "cell_type": "markdown",
   "id": "1cf3259b-e4bc-4568-9dc2-4ae072e4351f",
   "metadata": {},
   "source": [
    "### Visualizing the given Data"
   ]
  },
  {
   "cell_type": "code",
   "execution_count": 6,
   "id": "fc2541d6-b21e-499f-8998-876f67fdd9ab",
   "metadata": {},
   "outputs": [
    {
     "data": {
      "image/png": "[encoded data removed]",
      "text/plain": [
       "<Figure size 1008x504 with 1 Axes>"
      ]
     },
     "metadata": {
      "needs_background": "light"
     },
     "output_type": "display_data"
    }
   ],
   "source": [
    "plt.figure(figsize=(14,7))\n",
    "plt.scatter(data[\"Hours\"],data[\"Scores\"])\n",
    "plt.xlabel(\"$Hours$\")\n",
    "plt.ylabel('$Scores$')\n",
    "plt.show()"
   ]
  },
  {
   "cell_type": "markdown",
   "id": "b01d8395-ead2-4a2c-921a-2aaad400f0c4",
   "metadata": {},
   "source": [
    "   "
   ]
  },
  {
   "cell_type": "markdown",
   "id": "2866deb8-2cb2-4eff-8df8-2c969dc691d8",
   "metadata": {},
   "source": [
    "  "
   ]
  },
  {
   "cell_type": "markdown",
   "id": "3ad63aac-be74-4628-a5c3-33ae48452a0d",
   "metadata": {},
   "source": [
    "        "
   ]
  },
  {
   "cell_type": "markdown",
   "id": "0898bd68-0900-45ee-a3aa-253b170de5d0",
   "metadata": {},
   "source": [
    "### Preprocessing the Data"
   ]
  },
  {
   "cell_type": "markdown",
   "id": "b8ebfb21-28c0-495f-8a01-695e35db84c5",
   "metadata": {},
   "source": [
    "**Standardizing  the Data**"
   ]
  },
  {
   "cell_type": "code",
   "execution_count": 7,
   "id": "40532f7c-4b66-4a25-8c90-db093d5c171f",
   "metadata": {},
   "outputs": [],
   "source": [
    "ss = StandardScaler()"
   ]
  },
  {
   "cell_type": "code",
   "execution_count": 8,
   "id": "088c3030-368d-42af-b23b-b515fae1f4e4",
   "metadata": {},
   "outputs": [],
   "source": [
    "ss.fit(data)\n",
    "scaled_data = ss.transform(data)"
   ]
  },
  {
   "cell_type": "code",
   "execution_count": 9,
   "id": "4453340f-1381-4a07-a764-cc7a863c71a2",
   "metadata": {},
   "outputs": [
    {
     "data": {
      "text/plain": [
       "array([[-1.01532822, -1.23022337],\n",
       "       [ 0.03556882, -0.18082023],\n",
       "       [-0.7323944 , -0.98805342],\n",
       "       [ 1.40981881,  0.94930623],\n",
       "       [-0.61113705, -0.86696844],\n",
       "       [-1.4195194 , -1.27058503],\n",
       "       [ 1.69275263,  1.4740078 ],\n",
       "       [ 0.19724529,  0.34388134],\n",
       "       [ 1.32898057,  1.19147618],\n",
       "       [-0.93448999, -1.06877674],\n",
       "       [ 1.08646587,  1.35292282],\n",
       "       [ 0.35892176,  0.42460466],\n",
       "       [-0.20694588, -0.42299019],\n",
       "       [-0.69197529, -0.38262853],\n",
       "       [-1.58119586, -1.39167001],\n",
       "       [ 1.57149528,  1.75653941],\n",
       "       [-1.01532822, -0.86696844],\n",
       "       [-1.25784293, -1.1091384 ],\n",
       "       [ 0.43975999,  0.62641295],\n",
       "       [ 0.96520852,  0.70713627],\n",
       "       [-0.93448999, -0.86696844],\n",
       "       [-0.08568853,  0.10171138],\n",
       "       [-0.4898797 , -0.66516014],\n",
       "       [ 0.76311293,  0.98966788],\n",
       "       [ 1.12688499,  1.39328448]])"
      ]
     },
     "execution_count": 9,
     "metadata": {},
     "output_type": "execute_result"
    }
   ],
   "source": [
    "scaled_data"
   ]
  },
  {
   "cell_type": "markdown",
   "id": "a02ed9d9-967f-46d3-938a-f25726e640f0",
   "metadata": {},
   "source": [
    "## Splitting the Data into Train and Test Set"
   ]
  },
  {
   "cell_type": "code",
   "execution_count": 10,
   "id": "b50f5c8b-e223-4662-aa68-0e5881833230",
   "metadata": {},
   "outputs": [],
   "source": [
    "X = scaled_data[:,0]\n",
    "y = scaled_data[:,1]"
   ]
  },
  {
   "cell_type": "code",
   "execution_count": 11,
   "id": "97a92c98-3cba-4cb2-ab26-87ecfc6f7c65",
   "metadata": {},
   "outputs": [],
   "source": [
    "X_train, X_test, y_train, y_test = train_test_split(X, y, test_size=0.33, random_state=42)"
   ]
  },
  {
   "cell_type": "markdown",
   "id": "daed76ce-9318-4996-b13d-c8e2f93b718e",
   "metadata": {},
   "source": [
    "## Defining the class for Linear Regression"
   ]
  },
  {
   "cell_type": "code",
   "execution_count": 17,
   "id": "79077f77-4cb3-4f61-88e7-75f3c77f70ee",
   "metadata": {},
   "outputs": [],
   "source": [
    "class Linear_Regression:\n",
    "    \n",
    "    def __init__(self,iterations,learning_rate):\n",
    "        self.iterations = iterations\n",
    "        self.learning_rate = learning_rate\n",
    "        self.costs = []\n",
    "        \n",
    "\n",
    "    def fit(self,x,y):\n",
    "\n",
    "        n  = x.shape[0]\n",
    "        self.b0 = 0\n",
    "        self.b1 = 0\n",
    "        alpha = self.learning_rate\n",
    "        iterations = self.iterations\n",
    "\n",
    "        for i in range(iterations):\n",
    "            y_pred = self.predict(x)\n",
    "            cost = (1/2*n) * np.sum((y_pred - y) ** 2)\n",
    "\n",
    "            d_b0 = (1/n) * np.sum(y_pred - y)\n",
    "            d_b1 = (1/n) * np.sum((y_pred - y) * x)\n",
    "\n",
    "            self.b0 = self.b0 -  alpha * d_b0\n",
    "            self.b1 = self.b1 - alpha * d_b1\n",
    "\n",
    "            print(f\" Iteration : {i : .2f} , b0 : {self.b0 : .8f} , b1 : {self.b1 :.8f} , Cost : {cost : .10f}\")\n",
    "            \n",
    "            self.costs.append(cost)\n",
    "\n",
    "        return y_pred\n",
    "    \n",
    "    def predict(self,X):\n",
    "        return self.b1 * X + self.b0"
   ]
  },
  {
   "cell_type": "code",
   "execution_count": 18,
   "id": "5fca0093-e8ff-4f36-9cfb-f1f9375b7daf",
   "metadata": {},
   "outputs": [],
   "source": [
    "def evaluation(y,y_pred):\n",
    "    n = y.shape[0]\n",
    "    y_mean = np.mean(y)\n",
    "    rmse = (1/n) * np.sqrt(np.sum((y - y_pred) ** 2))\n",
    "    \n",
    "    TSS = np.sum((y_mean - y) ** 2)\n",
    "    RSS = np.sum((y - y_pred) ** 2)\n",
    "    \n",
    "    r2 = 1 - (RSS/TSS)\n",
    "    \n",
    "    print(f'''\n",
    "    Evaluation :\n",
    "      Root Mean Square Error : {rmse}\n",
    "      R Square Value         : {r2} ''')\n",
    "   \n",
    "\n",
    "def plot(x,y,z):\n",
    "    plt.figure(figsize=(14,7))\n",
    "    plt.scatter(x,y,label = \"Scattered Data Points\",c=\"orange\")\n",
    "    plt.plot(x,z,label = \"Best  Fit Line\",c='r')\n",
    "    plt.xlabel(\"Hours\")\n",
    "    plt.ylabel(\"Score\")\n",
    "    plt.legend()\n",
    "    plt.show()\n",
    "    \n",
    "def cost_plot(X):\n",
    "    plt.plot(X,label = \"Cost\")\n",
    "    plt.xlabel(\"Iterations\")\n",
    "    plt.ylabel(\"Cost\")\n",
    "    plt.show()"
   ]
  },
  {
   "cell_type": "markdown",
   "id": "09f13e78-4463-4fcb-93c0-4d7d15716321",
   "metadata": {},
   "source": [
    "### Training the Model"
   ]
  },
  {
   "cell_type": "code",
   "execution_count": 19,
   "id": "27505db0-9ea7-476f-9b39-3e621fa6aa52",
   "metadata": {},
   "outputs": [],
   "source": [
    "learning_rate = 0.05\n",
    "iterations = 100"
   ]
  },
  {
   "cell_type": "code",
   "execution_count": 20,
   "id": "44cc8c42-dfd8-4974-895e-3ff9fe45a0a0",
   "metadata": {},
   "outputs": [],
   "source": [
    "regressor = Linear_Regression(iterations=100 , learning_rate = 0.05)"
   ]
  },
  {
   "cell_type": "code",
   "execution_count": 21,
   "id": "57dedd6d-5e7e-472f-90bf-331fe4b87a7e",
   "metadata": {},
   "outputs": [
    {
     "name": "stdout",
     "output_type": "stream",
     "text": [
      " Iteration :  0.00 , b0 :  0.00559009 , b1 : 0.05687939 , Cost :  147.1339741852\n",
      " Iteration :  1.00 , b0 :  0.01060554 , b1 : 0.11037610 , Cost :  130.9102017867\n",
      " Iteration :  2.00 , b0 :  0.01509263 , b1 : 0.16069258 , Cost :  116.5708112480\n",
      " Iteration :  3.00 , b0 :  0.01909429 , b1 : 0.20801906 , Cost :  103.8958951050\n",
      " Iteration :  4.00 , b0 :  0.02265029 , b1 : 0.25253436 , Cost :  92.6913078765\n",
      " Iteration :  5.00 , b0 :  0.02579752 , b1 : 0.29440655 , Cost :  82.7856387108\n",
      " Iteration :  6.00 , b0 :  0.02857011 , b1 : 0.33379358 , Cost :  74.0275406675\n",
      " Iteration :  7.00 , b0 :  0.03099971 , b1 : 0.37084393 , Cost :  66.2833745371\n",
      " Iteration :  8.00 , b0 :  0.03311558 , b1 : 0.40569714 , Cost :  59.4351300811\n",
      " Iteration :  9.00 , b0 :  0.03494480 , b1 : 0.43848440 , Cost :  53.3785919582\n",
      " Iteration :  10.00 , b0 :  0.03651244 , b1 : 0.46932900 , Cost :  48.0217214751\n",
      " Iteration :  11.00 , b0 :  0.03784165 , b1 : 0.49834683 , Cost :  43.2832287083\n",
      " Iteration :  12.00 , b0 :  0.03895384 , b1 : 0.52564685 , Cost :  39.0913125503\n",
      " Iteration :  13.00 , b0 :  0.03986876 , b1 : 0.55133146 , Cost :  35.3825488871\n",
      " Iteration :  14.00 , b0 :  0.04060466 , b1 : 0.57549693 , Cost :  32.1009094481\n",
      " Iteration :  15.00 , b0 :  0.04117837 , b1 : 0.59823377 , Cost :  29.1968959345\n",
      " Iteration :  16.00 , b0 :  0.04160543 , b1 : 0.61962704 , Cost :  26.6267758461\n",
      " Iteration :  17.00 , b0 :  0.04190012 , b1 : 0.63975673 , Cost :  24.3519080327\n",
      " Iteration :  18.00 , b0 :  0.04207563 , b1 : 0.65869802 , Cost :  22.3381474051\n",
      " Iteration :  19.00 , b0 :  0.04214409 , b1 : 0.67652161 , Cost :  20.5553194920\n",
      " Iteration :  20.00 , b0 :  0.04211663 , b1 : 0.69329394 , Cost :  18.9767566219\n",
      " Iteration :  21.00 , b0 :  0.04200353 , b1 : 0.70907750 , Cost :  17.5788884844\n",
      " Iteration :  22.00 , b0 :  0.04181417 , b1 : 0.72393104 , Cost :  16.3408806750\n",
      " Iteration :  23.00 , b0 :  0.04155722 , b1 : 0.73790978 , Cost :  15.2443155835\n",
      " Iteration :  24.00 , b0 :  0.04124058 , b1 : 0.75106565 , Cost :  14.2729106496\n",
      " Iteration :  25.00 , b0 :  0.04087151 , b1 : 0.76344748 , Cost :  13.4122695977\n",
      " Iteration :  26.00 , b0 :  0.04045664 , b1 : 0.77510119 , Cost :  12.6496627754\n",
      " Iteration :  27.00 , b0 :  0.04000205 , b1 : 0.78606993 , Cost :  11.9738331825\n",
      " Iteration :  28.00 , b0 :  0.03951328 , b1 : 0.79639430 , Cost :  11.3748251724\n",
      " Iteration :  29.00 , b0 :  0.03899537 , b1 : 0.80611247 , Cost :  10.8438331690\n",
      " Iteration :  30.00 , b0 :  0.03845293 , b1 : 0.81526034 , Cost :  10.3730680501\n",
      " Iteration :  31.00 , b0 :  0.03789015 , b1 : 0.82387166 , Cost :  9.9556391281\n",
      " Iteration :  32.00 , b0 :  0.03731082 , b1 : 0.83197816 , Cost :  9.5854498990\n",
      " Iteration :  33.00 , b0 :  0.03671840 , b1 : 0.83960970 , Cost :  9.2571059481\n",
      " Iteration :  34.00 , b0 :  0.03611600 , b1 : 0.84679436 , Cost :  8.9658335889\n",
      " Iteration :  35.00 , b0 :  0.03550644 , b1 : 0.85355852 , Cost :  8.7074079789\n",
      " Iteration :  36.00 , b0 :  0.03489226 , b1 : 0.85992703 , Cost :  8.4780896045\n",
      " Iteration :  37.00 , b0 :  0.03427574 , b1 : 0.86592323 , Cost :  8.2745681552\n",
      " Iteration :  38.00 , b0 :  0.03365894 , b1 : 0.87156908 , Cost :  8.0939129249\n",
      " Iteration :  39.00 , b0 :  0.03304368 , b1 : 0.87688525 , Cost :  7.9335289775\n",
      " Iteration :  40.00 , b0 :  0.03243160 , b1 : 0.88189117 , Cost :  7.7911184028\n",
      " Iteration :  41.00 , b0 :  0.03182415 , b1 : 0.88660511 , Cost :  7.6646460702\n",
      " Iteration :  42.00 , b0 :  0.03122261 , b1 : 0.89104427 , Cost :  7.5523093547\n",
      " Iteration :  43.00 , b0 :  0.03062812 , b1 : 0.89522480 , Cost :  7.4525113720\n",
      " Iteration :  44.00 , b0 :  0.03004165 , b1 : 0.89916194 , Cost :  7.3638373145\n",
      " Iteration :  45.00 , b0 :  0.02946409 , b1 : 0.90286998 , Cost :  7.2850335268\n",
      " Iteration :  46.00 , b0 :  0.02889616 , b1 : 0.90636238 , Cost :  7.2149890013\n",
      " Iteration :  47.00 , b0 :  0.02833850 , b1 : 0.90965182 , Cost :  7.1527190137\n",
      " Iteration :  48.00 , b0 :  0.02779166 , b1 : 0.91275020 , Cost :  7.0973506480\n",
      " Iteration :  49.00 , b0 :  0.02725608 , b1 : 0.91566874 , Cost :  7.0481099932\n",
      " Iteration :  50.00 , b0 :  0.02673214 , b1 : 0.91841798 , Cost :  7.0043108161\n",
      " Iteration :  51.00 , b0 :  0.02622014 , b1 : 0.92100783 , Cost :  6.9653445397\n",
      " Iteration :  52.00 , b0 :  0.02572029 , b1 : 0.92344765 , Cost :  6.9306713762\n",
      " Iteration :  53.00 , b0 :  0.02523278 , b1 : 0.92574620 , Cost :  6.8998124795\n",
      " Iteration :  54.00 , b0 :  0.02475771 , b1 : 0.92791176 , Cost :  6.8723430003\n",
      " Iteration :  55.00 , b0 :  0.02429516 , b1 : 0.92995210 , Cost :  6.8478859393\n",
      " Iteration :  56.00 , b0 :  0.02384516 , b1 : 0.93187454 , Cost :  6.8261067051\n",
      " Iteration :  57.00 , b0 :  0.02340767 , b1 : 0.93368596 , Cost :  6.8067082969\n",
      " Iteration :  58.00 , b0 :  0.02298267 , b1 : 0.93539285 , Cost :  6.7894270384\n",
      " Iteration :  59.00 , b0 :  0.02257005 , b1 : 0.93700131 , Cost :  6.7740288009\n",
      " Iteration :  60.00 , b0 :  0.02216972 , b1 : 0.93851707 , Cost :  6.7603056573\n",
      " Iteration :  61.00 , b0 :  0.02178155 , b1 : 0.93994554 , Cost :  6.7480729191\n",
      " Iteration :  62.00 , b0 :  0.02140536 , b1 : 0.94129180 , Cost :  6.7371665110\n",
      " Iteration :  63.00 , b0 :  0.02104101 , b1 : 0.94256063 , Cost :  6.7274406454\n",
      " Iteration :  64.00 , b0 :  0.02068828 , b1 : 0.94375654 , Cost :  6.7187657613\n",
      " Iteration :  65.00 , b0 :  0.02034699 , b1 : 0.94488378 , Cost :  6.7110266982\n",
      " Iteration :  66.00 , b0 :  0.02001692 , b1 : 0.94594631 , Cost :  6.7041210768\n",
      " Iteration :  67.00 , b0 :  0.01969783 , b1 : 0.94694792 , Cost :  6.6979578642\n",
      " Iteration :  68.00 , b0 :  0.01938950 , b1 : 0.94789212 , Cost :  6.6924561020\n",
      " Iteration :  69.00 , b0 :  0.01909169 , b1 : 0.94878225 , Cost :  6.6875437775\n",
      " Iteration :  70.00 , b0 :  0.01880415 , b1 : 0.94962145 , Cost :  6.6831568239\n",
      " Iteration :  71.00 , b0 :  0.01852663 , b1 : 0.95041265 , Cost :  6.6792382322\n",
      " Iteration :  72.00 , b0 :  0.01825888 , b1 : 0.95115865 , Cost :  6.6757372646\n",
      " Iteration :  73.00 , b0 :  0.01800065 , b1 : 0.95186205 , Cost :  6.6726087558\n",
      " Iteration :  74.00 , b0 :  0.01775169 , b1 : 0.95252532 , Cost :  6.6698124931\n",
      " Iteration :  75.00 , b0 :  0.01751172 , b1 : 0.95315077 , Cost :  6.6673126666\n",
      " Iteration :  76.00 , b0 :  0.01728051 , b1 : 0.95374059 , Cost :  6.6650773806\n",
      " Iteration :  77.00 , b0 :  0.01705781 , b1 : 0.95429684 , Cost :  6.6630782205\n",
      " Iteration :  78.00 , b0 :  0.01684335 , b1 : 0.95482144 , Cost :  6.6612898674\n",
      " Iteration :  79.00 , b0 :  0.01663689 , b1 : 0.95531622 , Cost :  6.6596897567\n",
      " Iteration :  80.00 , b0 :  0.01643818 , b1 : 0.95578291 , Cost :  6.6582577743\n",
      " Iteration :  81.00 , b0 :  0.01624699 , b1 : 0.95622310 , Cost :  6.6569759867\n",
      " Iteration :  82.00 , b0 :  0.01606308 , b1 : 0.95663834 , Cost :  6.6558284015\n",
      " Iteration :  83.00 , b0 :  0.01588621 , b1 : 0.95703004 , Cost :  6.6548007545\n",
      " Iteration :  84.00 , b0 :  0.01571614 , b1 : 0.95739957 , Cost :  6.6538803198\n",
      " Iteration :  85.00 , b0 :  0.01555267 , b1 : 0.95774820 , Cost :  6.6530557423\n",
      " Iteration :  86.00 , b0 :  0.01539556 , b1 : 0.95807711 , Cost :  6.6523168873\n",
      " Iteration :  87.00 , b0 :  0.01524459 , b1 : 0.95838745 , Cost :  6.6516547079\n",
      " Iteration :  88.00 , b0 :  0.01509957 , b1 : 0.95868028 , Cost :  6.6510611263\n",
      " Iteration :  89.00 , b0 :  0.01496028 , b1 : 0.95895659 , Cost :  6.6505289285\n",
      " Iteration :  90.00 , b0 :  0.01482651 , b1 : 0.95921733 , Cost :  6.6500516706\n",
      " Iteration :  91.00 , b0 :  0.01469809 , b1 : 0.95946339 , Cost :  6.6496235957\n",
      " Iteration :  92.00 , b0 :  0.01457481 , b1 : 0.95969562 , Cost :  6.6492395590\n",
      " Iteration :  93.00 , b0 :  0.01445648 , b1 : 0.95991478 , Cost :  6.6488949622\n",
      " Iteration :  94.00 , b0 :  0.01434294 , b1 : 0.96012165 , Cost :  6.6485856944\n",
      " Iteration :  95.00 , b0 :  0.01423400 , b1 : 0.96031690 , Cost :  6.6483080796\n",
      " Iteration :  96.00 , b0 :  0.01412949 , b1 : 0.96050120 , Cost :  6.6480588304\n",
      " Iteration :  97.00 , b0 :  0.01402925 , b1 : 0.96067519 , Cost :  6.6478350056\n",
      " Iteration :  98.00 , b0 :  0.01393313 , b1 : 0.96083943 , Cost :  6.6476339739\n",
      " Iteration :  99.00 , b0 :  0.01384095 , b1 : 0.96099449 , Cost :  6.6474533803\n",
      "\n",
      "    Evaluation :\n",
      "      Root Mean Square Error : 0.05697215851480673\n",
      "      R Square Value         : 0.9543237149805339 \n"
     ]
    }
   ],
   "source": [
    "y_train_pred = regressor.fit(X_train,y_train)\n",
    "\n",
    "evaluation(y_train,y_train_pred)\n"
   ]
  },
  {
   "cell_type": "code",
   "execution_count": 22,
   "id": "7299dfed-130e-4b6f-a214-a42bb2ad578a",
   "metadata": {},
   "outputs": [
    {
     "data": {
      "image/png": "[encoded data removed]",
      "text/plain": [
       "<Figure size 1008x504 with 1 Axes>"
      ]
     },
     "metadata": {
      "needs_background": "light"
     },
     "output_type": "display_data"
    }
   ],
   "source": [
    "plot(X_train,y_train,y_train_pred)"
   ]
  },
  {
   "cell_type": "code",
   "execution_count": 23,
   "id": "a26ddf19-7b8a-4a3e-9e49-989ac6ec50dc",
   "metadata": {},
   "outputs": [
    {
     "data": {
      "image/png": "[encoded data removed]",
      "text/plain": [
       "<Figure size 432x288 with 1 Axes>"
      ]
     },
     "metadata": {
      "needs_background": "light"
     },
     "output_type": "display_data"
    }
   ],
   "source": [
    "cost_plot(regressor.costs)"
   ]
  },
  {
   "cell_type": "markdown",
   "id": "43848a65-cae6-4b4d-87f7-c3f181869c9f",
   "metadata": {},
   "source": [
    "## Testing the Model"
   ]
  },
  {
   "cell_type": "code",
   "execution_count": 24,
   "id": "b51c9a49-03c4-4f65-8380-ce9493801080",
   "metadata": {},
   "outputs": [],
   "source": [
    "y_test_pred = regressor.predict(X_test)"
   ]
  },
  {
   "cell_type": "code",
   "execution_count": 25,
   "id": "225823f2-4878-4786-a7ed-b5228b0815ad",
   "metadata": {},
   "outputs": [
    {
     "name": "stdout",
     "output_type": "stream",
     "text": [
      "\n",
      "    Evaluation :\n",
      "      Root Mean Square Error : 0.06629024047986716\n",
      "      R Square Value         : 0.9430732920418663 \n"
     ]
    }
   ],
   "source": [
    "evaluation(y_test,y_test_pred)"
   ]
  },
  {
   "cell_type": "markdown",
   "id": "582b3796-5268-46e6-8954-8f0801f5b9f2",
   "metadata": {},
   "source": [
    "##"
   ]
  },
  {
   "cell_type": "markdown",
   "id": "58a4163c-ff44-46e0-8f44-148bdcf1ee28",
   "metadata": {},
   "source": [
    "## Testing the Score for Study Hour $9.25$"
   ]
  },
  {
   "cell_type": "code",
   "execution_count": 26,
   "id": "0b5d9174-a47e-42b2-aea8-f842f76e2892",
   "metadata": {},
   "outputs": [],
   "source": [
    "ans = ss.transform(np.array([[9.25,0]]))"
   ]
  },
  {
   "cell_type": "code",
   "execution_count": 27,
   "id": "ec935f2b-5e60-4ca3-acff-a9c5469aec36",
   "metadata": {},
   "outputs": [],
   "source": [
    "ans[0][1] = regressor.predict(ans[0][0])"
   ]
  },
  {
   "cell_type": "code",
   "execution_count": 28,
   "id": "4c8d0a95-345a-4f59-a001-165611d4fa5e",
   "metadata": {},
   "outputs": [],
   "source": [
    "score = ss.inverse_transform(ans)[0][1]"
   ]
  },
  {
   "cell_type": "code",
   "execution_count": 29,
   "id": "50453ff8-ab70-46e9-ba15-192a93ff08a6",
   "metadata": {},
   "outputs": [
    {
     "data": {
      "text/plain": [
       "92.60784760027528"
      ]
     },
     "execution_count": 29,
     "metadata": {},
     "output_type": "execute_result"
    }
   ],
   "source": [
    "score"
   ]
  },
  {
   "cell_type": "markdown",
   "id": "abd69293-8cc7-496a-9666-7abf7bed469c",
   "metadata": {},
   "source": [
    "# Final Result"
   ]
  },
  {
   "cell_type": "markdown",
   "id": "109e4f6a-e433-4185-bbe2-8696c6896794",
   "metadata": {},
   "source": [
    "### *For a Study Hour of $9.25 hrs $  the student will score a  Score of  $92$ % .*"
   ]
  }
 ],
 "metadata": {
  "kernelspec": {
   "display_name": "Python 3 (ipykernel)",
   "language": "python",
   "name": "python3"
  },
  "language_info": {
   "codemirror_mode": {
    "name": "ipython",
    "version": 3
   },
   "file_extension": ".py",
   "mimetype": "text/x-python",
   "name": "python",
   "nbconvert_exporter": "python",
   "pygments_lexer": "ipython3",
   "version": "3.9.12"
  }
 },
 "nbformat": 4,
 "nbformat_minor": 5
}
